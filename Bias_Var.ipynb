{
  "nbformat": 4,
  "nbformat_minor": 0,
  "metadata": {
    "colab": {
      "name": "khaled (1).ipynb",
      "provenance": [],
      "collapsed_sections": []
    },
    "kernelspec": {
      "name": "python3",
      "display_name": "Python 3"
    },
    "language_info": {
      "name": "python"
    }
  },
  "cells": [
    {
      "cell_type": "code",
      "execution_count": 70,
      "metadata": {
        "id": "qyDY-ST19TEQ"
      },
      "outputs": [],
      "source": [
        "import pickle\n",
        "import numpy as np\n",
        "import pandas as pd\n",
        "import matplotlib.pyplot as plt\n",
        "import random\n",
        "from sklearn import linear_model\n",
        "from sklearn.preprocessing import PolynomialFeatures\n",
        "%matplotlib inline"
      ]
    },
    {
      "cell_type": "code",
      "source": [
        "file = open(\"data.pkl\", \"rb\")"
      ],
      "metadata": {
        "id": "7pO9rDE1-O2Z"
      },
      "execution_count": 3,
      "outputs": []
    },
    {
      "cell_type": "code",
      "source": [
        "data = pickle.load(file)"
      ],
      "metadata": {
        "id": "Put190Rt-fzo"
      },
      "execution_count": 4,
      "outputs": []
    },
    {
      "cell_type": "code",
      "source": [
        "file.close()"
      ],
      "metadata": {
        "id": "pnkonUPu-gXg"
      },
      "execution_count": 5,
      "outputs": []
    },
    {
      "cell_type": "code",
      "source": [
        "type(data)"
      ],
      "metadata": {
        "colab": {
          "base_uri": "https://localhost:8080/"
        },
        "id": "0eMJRS8GgwWK",
        "outputId": "76295618-4352-4b84-da5a-192e405d66cc"
      },
      "execution_count": 6,
      "outputs": [
        {
          "output_type": "execute_result",
          "data": {
            "text/plain": [
              "numpy.ndarray"
            ]
          },
          "metadata": {},
          "execution_count": 6
        }
      ]
    },
    {
      "cell_type": "code",
      "source": [
        "data.shape"
      ],
      "metadata": {
        "colab": {
          "base_uri": "https://localhost:8080/"
        },
        "id": "GWgGadWOiaHQ",
        "outputId": "e28bc145-74d7-4161-d73a-8533ed1a7b9d"
      },
      "execution_count": 67,
      "outputs": [
        {
          "output_type": "execute_result",
          "data": {
            "text/plain": [
              "(5000, 2)"
            ]
          },
          "metadata": {},
          "execution_count": 67
        }
      ]
    },
    {
      "cell_type": "markdown",
      "source": [
        "Creating a dataframe using the data with two columns for X and Y values\n"
      ],
      "metadata": {
        "id": "Bdols-hJ3O8z"
      }
    },
    {
      "cell_type": "code",
      "source": [
        "df = pd.DataFrame(data=data, columns=['X','Y'])\n",
        "df_values=df.values\n",
        "df.head(5)"
      ],
      "metadata": {
        "colab": {
          "base_uri": "https://localhost:8080/",
          "height": 206
        },
        "id": "xMOhuxpahl9N",
        "outputId": "13cf35ef-bebc-443f-b277-10b497fae162"
      },
      "execution_count": 7,
      "outputs": [
        {
          "output_type": "execute_result",
          "data": {
            "text/html": [
              "\n",
              "  <div id=\"df-1af7049f-d759-4f9d-a278-fb9ffde9bebc\">\n",
              "    <div class=\"colab-df-container\">\n",
              "      <div>\n",
              "<style scoped>\n",
              "    .dataframe tbody tr th:only-of-type {\n",
              "        vertical-align: middle;\n",
              "    }\n",
              "\n",
              "    .dataframe tbody tr th {\n",
              "        vertical-align: top;\n",
              "    }\n",
              "\n",
              "    .dataframe thead th {\n",
              "        text-align: right;\n",
              "    }\n",
              "</style>\n",
              "<table border=\"1\" class=\"dataframe\">\n",
              "  <thead>\n",
              "    <tr style=\"text-align: right;\">\n",
              "      <th></th>\n",
              "      <th>X</th>\n",
              "      <th>Y</th>\n",
              "    </tr>\n",
              "  </thead>\n",
              "  <tbody>\n",
              "    <tr>\n",
              "      <th>0</th>\n",
              "      <td>0.000</td>\n",
              "      <td>2.000000</td>\n",
              "    </tr>\n",
              "    <tr>\n",
              "      <th>1</th>\n",
              "      <td>0.001</td>\n",
              "      <td>2.026000</td>\n",
              "    </tr>\n",
              "    <tr>\n",
              "      <th>2</th>\n",
              "      <td>0.002</td>\n",
              "      <td>2.051997</td>\n",
              "    </tr>\n",
              "    <tr>\n",
              "      <th>3</th>\n",
              "      <td>0.003</td>\n",
              "      <td>2.077990</td>\n",
              "    </tr>\n",
              "    <tr>\n",
              "      <th>4</th>\n",
              "      <td>0.004</td>\n",
              "      <td>2.103975</td>\n",
              "    </tr>\n",
              "  </tbody>\n",
              "</table>\n",
              "</div>\n",
              "      <button class=\"colab-df-convert\" onclick=\"convertToInteractive('df-1af7049f-d759-4f9d-a278-fb9ffde9bebc')\"\n",
              "              title=\"Convert this dataframe to an interactive table.\"\n",
              "              style=\"display:none;\">\n",
              "        \n",
              "  <svg xmlns=\"http://www.w3.org/2000/svg\" height=\"24px\"viewBox=\"0 0 24 24\"\n",
              "       width=\"24px\">\n",
              "    <path d=\"M0 0h24v24H0V0z\" fill=\"none\"/>\n",
              "    <path d=\"M18.56 5.44l.94 2.06.94-2.06 2.06-.94-2.06-.94-.94-2.06-.94 2.06-2.06.94zm-11 1L8.5 8.5l.94-2.06 2.06-.94-2.06-.94L8.5 2.5l-.94 2.06-2.06.94zm10 10l.94 2.06.94-2.06 2.06-.94-2.06-.94-.94-2.06-.94 2.06-2.06.94z\"/><path d=\"M17.41 7.96l-1.37-1.37c-.4-.4-.92-.59-1.43-.59-.52 0-1.04.2-1.43.59L10.3 9.45l-7.72 7.72c-.78.78-.78 2.05 0 2.83L4 21.41c.39.39.9.59 1.41.59.51 0 1.02-.2 1.41-.59l7.78-7.78 2.81-2.81c.8-.78.8-2.07 0-2.86zM5.41 20L4 18.59l7.72-7.72 1.47 1.35L5.41 20z\"/>\n",
              "  </svg>\n",
              "      </button>\n",
              "      \n",
              "  <style>\n",
              "    .colab-df-container {\n",
              "      display:flex;\n",
              "      flex-wrap:wrap;\n",
              "      gap: 12px;\n",
              "    }\n",
              "\n",
              "    .colab-df-convert {\n",
              "      background-color: #E8F0FE;\n",
              "      border: none;\n",
              "      border-radius: 50%;\n",
              "      cursor: pointer;\n",
              "      display: none;\n",
              "      fill: #1967D2;\n",
              "      height: 32px;\n",
              "      padding: 0 0 0 0;\n",
              "      width: 32px;\n",
              "    }\n",
              "\n",
              "    .colab-df-convert:hover {\n",
              "      background-color: #E2EBFA;\n",
              "      box-shadow: 0px 1px 2px rgba(60, 64, 67, 0.3), 0px 1px 3px 1px rgba(60, 64, 67, 0.15);\n",
              "      fill: #174EA6;\n",
              "    }\n",
              "\n",
              "    [theme=dark] .colab-df-convert {\n",
              "      background-color: #3B4455;\n",
              "      fill: #D2E3FC;\n",
              "    }\n",
              "\n",
              "    [theme=dark] .colab-df-convert:hover {\n",
              "      background-color: #434B5C;\n",
              "      box-shadow: 0px 1px 3px 1px rgba(0, 0, 0, 0.15);\n",
              "      filter: drop-shadow(0px 1px 2px rgba(0, 0, 0, 0.3));\n",
              "      fill: #FFFFFF;\n",
              "    }\n",
              "  </style>\n",
              "\n",
              "      <script>\n",
              "        const buttonEl =\n",
              "          document.querySelector('#df-1af7049f-d759-4f9d-a278-fb9ffde9bebc button.colab-df-convert');\n",
              "        buttonEl.style.display =\n",
              "          google.colab.kernel.accessAllowed ? 'block' : 'none';\n",
              "\n",
              "        async function convertToInteractive(key) {\n",
              "          const element = document.querySelector('#df-1af7049f-d759-4f9d-a278-fb9ffde9bebc');\n",
              "          const dataTable =\n",
              "            await google.colab.kernel.invokeFunction('convertToInteractive',\n",
              "                                                     [key], {});\n",
              "          if (!dataTable) return;\n",
              "\n",
              "          const docLinkHtml = 'Like what you see? Visit the ' +\n",
              "            '<a target=\"_blank\" href=https://colab.research.google.com/notebooks/data_table.ipynb>data table notebook</a>'\n",
              "            + ' to learn more about interactive tables.';\n",
              "          element.innerHTML = '';\n",
              "          dataTable['output_type'] = 'display_data';\n",
              "          await google.colab.output.renderOutput(dataTable, element);\n",
              "          const docLink = document.createElement('div');\n",
              "          docLink.innerHTML = docLinkHtml;\n",
              "          element.appendChild(docLink);\n",
              "        }\n",
              "      </script>\n",
              "    </div>\n",
              "  </div>\n",
              "  "
            ],
            "text/plain": [
              "       X         Y\n",
              "0  0.000  2.000000\n",
              "1  0.001  2.026000\n",
              "2  0.002  2.051997\n",
              "3  0.003  2.077990\n",
              "4  0.004  2.103975"
            ]
          },
          "metadata": {},
          "execution_count": 7
        }
      ]
    },
    {
      "cell_type": "markdown",
      "source": [
        "Dividing the data into training and testing data while shuffling the data to create random splits later on "
      ],
      "metadata": {
        "id": "lkCp3dUd3bs1"
      }
    },
    {
      "cell_type": "code",
      "source": [
        "from sklearn.model_selection import train_test_split\n",
        "xtr,xts,ytr,yts = train_test_split(df_values[:,0], df_values[:,1], test_size=0.1,random_state=10,shuffle=True)"
      ],
      "metadata": {
        "id": "UL0odWue-v3w"
      },
      "execution_count": 8,
      "outputs": []
    },
    {
      "cell_type": "markdown",
      "source": [
        "Creating a dataframe with the training data"
      ],
      "metadata": {
        "id": "6mtF70Jg3mAb"
      }
    },
    {
      "cell_type": "code",
      "source": [
        "df_train=pd.DataFrame({'X_train':xtr, 'Y_train':ytr})"
      ],
      "metadata": {
        "id": "D81olj2GhRMi"
      },
      "execution_count": 9,
      "outputs": []
    },
    {
      "cell_type": "markdown",
      "source": [
        "Dividing the randomized training data into 10 splits "
      ],
      "metadata": {
        "id": "PPZiJPLr3yph"
      }
    },
    {
      "cell_type": "code",
      "source": [
        "df_train_splits=np.split(df_train,10)"
      ],
      "metadata": {
        "id": "M47ky_I215LV"
      },
      "execution_count": 10,
      "outputs": []
    },
    {
      "cell_type": "code",
      "source": [
        "type(df_train_splits)"
      ],
      "metadata": {
        "colab": {
          "base_uri": "https://localhost:8080/"
        },
        "id": "cE-u4JJuJhld",
        "outputId": "145d3ce3-432d-4ce3-b0ca-8103f142a337"
      },
      "execution_count": 11,
      "outputs": [
        {
          "output_type": "execute_result",
          "data": {
            "text/plain": [
              "list"
            ]
          },
          "metadata": {},
          "execution_count": 11
        }
      ]
    },
    {
      "cell_type": "code",
      "source": [
        "df_train_splits[0].head(5)"
      ],
      "metadata": {
        "colab": {
          "base_uri": "https://localhost:8080/",
          "height": 206
        },
        "id": "oFN3y3BF17W0",
        "outputId": "5b59e1f8-2ddf-4a15-cd12-24dbb05c5240"
      },
      "execution_count": 12,
      "outputs": [
        {
          "output_type": "execute_result",
          "data": {
            "text/html": [
              "\n",
              "  <div id=\"df-9ccbb403-02b5-4e1f-b32e-1d722047b806\">\n",
              "    <div class=\"colab-df-container\">\n",
              "      <div>\n",
              "<style scoped>\n",
              "    .dataframe tbody tr th:only-of-type {\n",
              "        vertical-align: middle;\n",
              "    }\n",
              "\n",
              "    .dataframe tbody tr th {\n",
              "        vertical-align: top;\n",
              "    }\n",
              "\n",
              "    .dataframe thead th {\n",
              "        text-align: right;\n",
              "    }\n",
              "</style>\n",
              "<table border=\"1\" class=\"dataframe\">\n",
              "  <thead>\n",
              "    <tr style=\"text-align: right;\">\n",
              "      <th></th>\n",
              "      <th>X_train</th>\n",
              "      <th>Y_train</th>\n",
              "    </tr>\n",
              "  </thead>\n",
              "  <tbody>\n",
              "    <tr>\n",
              "      <th>0</th>\n",
              "      <td>1.731</td>\n",
              "      <td>1.772402</td>\n",
              "    </tr>\n",
              "    <tr>\n",
              "      <th>1</th>\n",
              "      <td>3.096</td>\n",
              "      <td>1.560539</td>\n",
              "    </tr>\n",
              "    <tr>\n",
              "      <th>2</th>\n",
              "      <td>1.464</td>\n",
              "      <td>5.197280</td>\n",
              "    </tr>\n",
              "    <tr>\n",
              "      <th>3</th>\n",
              "      <td>0.470</td>\n",
              "      <td>0.787319</td>\n",
              "    </tr>\n",
              "    <tr>\n",
              "      <th>4</th>\n",
              "      <td>0.454</td>\n",
              "      <td>0.802767</td>\n",
              "    </tr>\n",
              "  </tbody>\n",
              "</table>\n",
              "</div>\n",
              "      <button class=\"colab-df-convert\" onclick=\"convertToInteractive('df-9ccbb403-02b5-4e1f-b32e-1d722047b806')\"\n",
              "              title=\"Convert this dataframe to an interactive table.\"\n",
              "              style=\"display:none;\">\n",
              "        \n",
              "  <svg xmlns=\"http://www.w3.org/2000/svg\" height=\"24px\"viewBox=\"0 0 24 24\"\n",
              "       width=\"24px\">\n",
              "    <path d=\"M0 0h24v24H0V0z\" fill=\"none\"/>\n",
              "    <path d=\"M18.56 5.44l.94 2.06.94-2.06 2.06-.94-2.06-.94-.94-2.06-.94 2.06-2.06.94zm-11 1L8.5 8.5l.94-2.06 2.06-.94-2.06-.94L8.5 2.5l-.94 2.06-2.06.94zm10 10l.94 2.06.94-2.06 2.06-.94-2.06-.94-.94-2.06-.94 2.06-2.06.94z\"/><path d=\"M17.41 7.96l-1.37-1.37c-.4-.4-.92-.59-1.43-.59-.52 0-1.04.2-1.43.59L10.3 9.45l-7.72 7.72c-.78.78-.78 2.05 0 2.83L4 21.41c.39.39.9.59 1.41.59.51 0 1.02-.2 1.41-.59l7.78-7.78 2.81-2.81c.8-.78.8-2.07 0-2.86zM5.41 20L4 18.59l7.72-7.72 1.47 1.35L5.41 20z\"/>\n",
              "  </svg>\n",
              "      </button>\n",
              "      \n",
              "  <style>\n",
              "    .colab-df-container {\n",
              "      display:flex;\n",
              "      flex-wrap:wrap;\n",
              "      gap: 12px;\n",
              "    }\n",
              "\n",
              "    .colab-df-convert {\n",
              "      background-color: #E8F0FE;\n",
              "      border: none;\n",
              "      border-radius: 50%;\n",
              "      cursor: pointer;\n",
              "      display: none;\n",
              "      fill: #1967D2;\n",
              "      height: 32px;\n",
              "      padding: 0 0 0 0;\n",
              "      width: 32px;\n",
              "    }\n",
              "\n",
              "    .colab-df-convert:hover {\n",
              "      background-color: #E2EBFA;\n",
              "      box-shadow: 0px 1px 2px rgba(60, 64, 67, 0.3), 0px 1px 3px 1px rgba(60, 64, 67, 0.15);\n",
              "      fill: #174EA6;\n",
              "    }\n",
              "\n",
              "    [theme=dark] .colab-df-convert {\n",
              "      background-color: #3B4455;\n",
              "      fill: #D2E3FC;\n",
              "    }\n",
              "\n",
              "    [theme=dark] .colab-df-convert:hover {\n",
              "      background-color: #434B5C;\n",
              "      box-shadow: 0px 1px 3px 1px rgba(0, 0, 0, 0.15);\n",
              "      filter: drop-shadow(0px 1px 2px rgba(0, 0, 0, 0.3));\n",
              "      fill: #FFFFFF;\n",
              "    }\n",
              "  </style>\n",
              "\n",
              "      <script>\n",
              "        const buttonEl =\n",
              "          document.querySelector('#df-9ccbb403-02b5-4e1f-b32e-1d722047b806 button.colab-df-convert');\n",
              "        buttonEl.style.display =\n",
              "          google.colab.kernel.accessAllowed ? 'block' : 'none';\n",
              "\n",
              "        async function convertToInteractive(key) {\n",
              "          const element = document.querySelector('#df-9ccbb403-02b5-4e1f-b32e-1d722047b806');\n",
              "          const dataTable =\n",
              "            await google.colab.kernel.invokeFunction('convertToInteractive',\n",
              "                                                     [key], {});\n",
              "          if (!dataTable) return;\n",
              "\n",
              "          const docLinkHtml = 'Like what you see? Visit the ' +\n",
              "            '<a target=\"_blank\" href=https://colab.research.google.com/notebooks/data_table.ipynb>data table notebook</a>'\n",
              "            + ' to learn more about interactive tables.';\n",
              "          element.innerHTML = '';\n",
              "          dataTable['output_type'] = 'display_data';\n",
              "          await google.colab.output.renderOutput(dataTable, element);\n",
              "          const docLink = document.createElement('div');\n",
              "          docLink.innerHTML = docLinkHtml;\n",
              "          element.appendChild(docLink);\n",
              "        }\n",
              "      </script>\n",
              "    </div>\n",
              "  </div>\n",
              "  "
            ],
            "text/plain": [
              "   X_train   Y_train\n",
              "0    1.731  1.772402\n",
              "1    3.096  1.560539\n",
              "2    1.464  5.197280\n",
              "3    0.470  0.787319\n",
              "4    0.454  0.802767"
            ]
          },
          "metadata": {},
          "execution_count": 12
        }
      ]
    },
    {
      "cell_type": "code",
      "source": [
        "for i in range(10):\n",
        "  df_train_splits[i]=df_train_splits[i].values"
      ],
      "metadata": {
        "id": "GQ80nsPkKTJV"
      },
      "execution_count": 13,
      "outputs": []
    },
    {
      "cell_type": "markdown",
      "source": [
        "Creating 9 linear Regression models, one for each polynomial degree"
      ],
      "metadata": {
        "id": "C9JhaaeC3_Lg"
      }
    },
    {
      "cell_type": "code",
      "source": [
        "model1=linear_model.LinearRegression()\n",
        "model2=linear_model.LinearRegression()\n",
        "model3=linear_model.LinearRegression()\n",
        "model4=linear_model.LinearRegression()\n",
        "model5=linear_model.LinearRegression()\n",
        "model6=linear_model.LinearRegression()\n",
        "model7=linear_model.LinearRegression()\n",
        "model8=linear_model.LinearRegression()\n",
        "model9=linear_model.LinearRegression()\n",
        "models=[]\n",
        "models.append(model1)\n",
        "models.append(model2)\n",
        "models.append(model3)\n",
        "models.append(model4)\n",
        "models.append(model5)\n",
        "models.append(model6)\n",
        "models.append(model7)\n",
        "models.append(model8)\n",
        "models.append(model9)\n"
      ],
      "metadata": {
        "id": "dvdWr1x_Jlw2"
      },
      "execution_count": 14,
      "outputs": []
    },
    {
      "cell_type": "markdown",
      "source": [
        "For each polynomial degree, we loop over the 10 training sets and train the model then use it to predict the test values and add the predictions to an array for further use.\n",
        "\n",
        "Also the bias and variance are calculated for each model order along the 10 datasets and two 9*10 matrices are used,\n",
        "one for bias and one for variance"
      ],
      "metadata": {
        "id": "Q7w893j1434e"
      }
    },
    {
      "cell_type": "code",
      "source": [
        "bias_all = np.zeros((9,10))\n",
        "var_all = np.zeros((9,10))\n",
        "predictions_all=[]\n",
        "for i in range(0,9,1):\n",
        "  poly = PolynomialFeatures(degree = i+1)\n",
        "  for j in range(0,10,1):\n",
        "    X=df_train_splits[j][:,0].reshape(-1,1)\n",
        "    y_train=df_train_splits[j][:,1].reshape(-1,1)\n",
        "    X_train_poly=poly.fit_transform(X)\n",
        "    X_test_poly=poly.fit_transform(xts.reshape(-1,1))\n",
        "    models[i].fit(X_train_poly, y_train)\n",
        "    y_predict=models[i].predict(X_test_poly)\n",
        "    bias=np.mean((y_predict-yts.reshape(-1,1))**2)\n",
        "    var=np.mean((y_predict-np.mean(y_predict))**2)\n",
        "    bias_all[i,j]=bias\n",
        "    var_all[i,j]=var\n",
        "    predictions_all.append(y_predict)\n"
      ],
      "metadata": {
        "id": "yF_bQOvIG_3k"
      },
      "execution_count": 35,
      "outputs": []
    },
    {
      "cell_type": "markdown",
      "source": [
        "Plotting the actual data vs the predicted for each polynomial degree using one dataset"
      ],
      "metadata": {
        "id": "bCdIPQiq5c5a"
      }
    },
    {
      "cell_type": "code",
      "source": [
        "figure, axis = plt.subplots(2, 5,figsize=(20,20))\n",
        "axis[0, 0].plot(xts,yts,'o',color='blue')\n",
        "axis[0, 0].plot(xts,predictions_all[0],'o',color='red')\n",
        "axis[0, 0].set_xlabel('X')\n",
        "axis[0, 0].set_ylabel('Y')\n",
        "axis[0, 0].set_title('Model Order 1')\n",
        "axis[0,0].legend(['actual','predicted'])\n",
        "\n",
        "axis[0, 1].plot(xts,yts,'o',color='blue')\n",
        "axis[0, 1].plot(xts,predictions_all[10],'o',color='red')\n",
        "axis[0, 1].set_xlabel('X')\n",
        "axis[0, 1].set_ylabel('Y')\n",
        "axis[0, 1].set_title('Model Order 2')\n",
        "axis[0,1].legend(['actual','predicted'])\n",
        "\n",
        "axis[0, 2].plot(xts,yts,'o',color='blue')\n",
        "axis[0, 2].plot(xts,predictions_all[20],'o',color='red')\n",
        "axis[0, 2].set_xlabel('X')\n",
        "axis[0, 2].set_ylabel('Y')\n",
        "axis[0, 2].set_title('Model Order 3')\n",
        "axis[0,2].legend(['actual','predicted'])\n",
        "\n",
        "axis[0, 3].plot(xts,yts,'o',color='blue')\n",
        "axis[0, 3].plot(xts,predictions_all[30],'o',color='red')\n",
        "axis[0, 3].set_xlabel('X')\n",
        "axis[0, 3].set_ylabel('Y')\n",
        "axis[0, 3].set_title('Model Order 4')\n",
        "axis[0,3].legend(['actual','predicted'])\n",
        "\n",
        "axis[0, 4].plot(xts,yts,'o',color='blue')\n",
        "axis[0, 4].plot(xts,predictions_all[40],'o',color='red')\n",
        "axis[0, 4].set_xlabel('X')\n",
        "axis[0, 4].set_ylabel('Y')\n",
        "axis[0, 4].set_title('Model Order 5')\n",
        "axis[0,4].legend(['actual','predicted'])\n",
        "\n",
        "axis[1, 0].plot(xts,yts,'o',color='blue')\n",
        "axis[1, 0].plot(xts,predictions_all[50],'o',color='red')\n",
        "axis[1, 0].set_xlabel('X')\n",
        "axis[1, 0].set_ylabel('Y')\n",
        "axis[1, 0].set_title('Model Order 6')\n",
        "axis[1,0].legend(['actual','predicted'])\n",
        "\n",
        "axis[1, 1].plot(xts,yts,'o',color='blue')\n",
        "axis[1, 1].plot(xts,predictions_all[60],'o',color='red')\n",
        "axis[1, 1].set_xlabel('X')\n",
        "axis[1, 1].set_ylabel('Y')\n",
        "axis[1, 1].set_title('Model Order 7')\n",
        "axis[1,1].legend(['actual','predicted'])\n",
        "\n",
        "axis[1, 2].plot(xts,yts,'o',color='blue')\n",
        "axis[1, 2].plot(xts,predictions_all[70],'o',color='red')\n",
        "axis[1, 2].set_xlabel('X')\n",
        "axis[1, 2].set_ylabel('Y')\n",
        "axis[1, 2].set_title('Model Order 8')\n",
        "axis[1,2].legend(['actual','predicted'])\n",
        "\n",
        "axis[1, 3].plot(xts,yts,'o',color='blue')\n",
        "axis[1, 3].plot(xts,predictions_all[80],'o',color='red')\n",
        "axis[1, 3].set_xlabel('X')\n",
        "axis[1, 3].set_ylabel('Y')\n",
        "axis[1, 3].set_title('Model Order 9')\n",
        "axis[1,3].legend(['actual','predicted'])\n"
      ],
      "metadata": {
        "colab": {
          "base_uri": "https://localhost:8080/",
          "height": 982
        },
        "id": "Ae1Q4I_DSvbD",
        "outputId": "1b92664f-4e65-4c54-ce6b-840e2ad43c12"
      },
      "execution_count": 66,
      "outputs": [
        {
          "output_type": "execute_result",
          "data": {
            "text/plain": [
              "<matplotlib.legend.Legend at 0x7f34b32786d0>"
            ]
          },
          "metadata": {},
          "execution_count": 66
        },
        {
          "output_type": "display_data",
          "data": {
            "image/png": "[encoded data removed]",
            "text/plain": [
              "<Figure size 1440x1440 with 10 Axes>"
            ]
          },
          "metadata": {
            "needs_background": "light"
          }
        }
      ]
    },
    {
      "cell_type": "code",
      "source": [
        "models_bias=[]\n",
        "models_variance=[]"
      ],
      "metadata": {
        "id": "bokzqXcZ0nFL"
      },
      "execution_count": 36,
      "outputs": []
    },
    {
      "cell_type": "markdown",
      "source": [
        "Calculating the average bias and variance for each polynomial degree using the 10 training datasets"
      ],
      "metadata": {
        "id": "4bofNu4a59kI"
      }
    },
    {
      "cell_type": "code",
      "source": [
        "for i in range(9):\n",
        "  models_bias.append(np.mean(bias_all[i]))\n",
        "  models_variance.append(np.mean(var_all[i]))"
      ],
      "metadata": {
        "id": "QCQBJGGs6nYr"
      },
      "execution_count": 37,
      "outputs": []
    },
    {
      "cell_type": "code",
      "source": [
        "models_variance"
      ],
      "metadata": {
        "colab": {
          "base_uri": "https://localhost:8080/"
        },
        "id": "JQP6S1vnFzqs",
        "outputId": "ca495e55-2ffa-42b2-c5aa-032dad7f3ed8"
      },
      "execution_count": 39,
      "outputs": [
        {
          "output_type": "execute_result",
          "data": {
            "text/plain": [
              "[45.84318968130683,\n",
              " 66.02272747230373,\n",
              " 66.07462308881364,\n",
              " 70.69056330983072,\n",
              " 71.29744606562585,\n",
              " 71.2830646713483,\n",
              " 71.55188788553599,\n",
              " 71.67593296910276,\n",
              " 71.78279272288752]"
            ]
          },
          "metadata": {},
          "execution_count": 39
        }
      ]
    },
    {
      "cell_type": "code",
      "source": [
        "models_orders=np.arange(1,10)\n",
        "models_orders"
      ],
      "metadata": {
        "colab": {
          "base_uri": "https://localhost:8080/"
        },
        "id": "rVPalyLoN7JF",
        "outputId": "33813a3b-b753-4381-e5ab-2f484ee69938"
      },
      "execution_count": 41,
      "outputs": [
        {
          "output_type": "execute_result",
          "data": {
            "text/plain": [
              "array([1, 2, 3, 4, 5, 6, 7, 8, 9])"
            ]
          },
          "metadata": {},
          "execution_count": 41
        }
      ]
    },
    {
      "cell_type": "markdown",
      "source": [
        "Plotting the bias-variance tradeoff graph for the model orders\n"
      ],
      "metadata": {
        "id": "8450qK936Pzi"
      }
    },
    {
      "cell_type": "code",
      "source": [
        "plt.plot(models_orders,models_bias,color='green')\n",
        "plt.plot(models_orders,models_variance,color='orange')\n",
        "plt.xlabel('Model Orders')\n",
        "plt.legend(['Bias','Variance'])\n",
        "plt.title('Bias-Variance TradeOff')"
      ],
      "metadata": {
        "colab": {
          "base_uri": "https://localhost:8080/",
          "height": 312
        },
        "id": "oamYbWF3F1Xs",
        "outputId": "aa6364b4-0a92-43b3-8ec0-7d4ec364d2b1"
      },
      "execution_count": 68,
      "outputs": [
        {
          "output_type": "execute_result",
          "data": {
            "text/plain": [
              "Text(0.5, 1.0, 'Bias-Variance TradeOff')"
            ]
          },
          "metadata": {},
          "execution_count": 68
        },
        {
          "output_type": "display_data",
          "data": {
            "image/png": "[encoded data removed]",
            "text/plain": [
              "<Figure size 432x288 with 1 Axes>"
            ]
          },
          "metadata": {
            "needs_background": "light"
          }
        }
      ]
    },
    {
      "cell_type": "code",
      "source": [
        "pip install prettytable "
      ],
      "metadata": {
        "colab": {
          "base_uri": "https://localhost:8080/"
        },
        "id": "E9eVL3I9Oaap",
        "outputId": "935a1d9c-a0c1-4e98-9a9d-1e8a8aaf7935"
      },
      "execution_count": 44,
      "outputs": [
        {
          "output_type": "stream",
          "name": "stdout",
          "text": [
            "Requirement already satisfied: prettytable in /usr/local/lib/python3.7/dist-packages (2.4.0)\n",
            "Requirement already satisfied: wcwidth in /usr/local/lib/python3.7/dist-packages (from prettytable) (0.2.5)\n",
            "Requirement already satisfied: importlib-metadata in /usr/local/lib/python3.7/dist-packages (from prettytable) (4.8.2)\n",
            "Requirement already satisfied: zipp>=0.5 in /usr/local/lib/python3.7/dist-packages (from importlib-metadata->prettytable) (3.6.0)\n",
            "Requirement already satisfied: typing-extensions>=3.6.4 in /usr/local/lib/python3.7/dist-packages (from importlib-metadata->prettytable) (3.10.0.2)\n"
          ]
        }
      ]
    },
    {
      "cell_type": "code",
      "source": [
        "from prettytable import PrettyTable "
      ],
      "metadata": {
        "id": "gqDxpV2bQ1dc"
      },
      "execution_count": 45,
      "outputs": []
    },
    {
      "cell_type": "markdown",
      "source": [
        "Tabulating the results for the bias and variance for each model order"
      ],
      "metadata": {
        "id": "Pl-rybGy6XR1"
      }
    },
    {
      "cell_type": "code",
      "source": [
        "model_bias_var = PrettyTable([\"Model Order\", \"Bias\", \"Variance\"])\n",
        "for i in range(9):\n",
        "  model_bias_var.add_row([models_orders[i],models_bias[i],models_variance[i]])\n",
        "print(model_bias_var) "
      ],
      "metadata": {
        "colab": {
          "base_uri": "https://localhost:8080/"
        },
        "id": "RZGlUJSOQ-jB",
        "outputId": "e19418dd-b3b8-47e4-c252-da5268838e0e"
      },
      "execution_count": 49,
      "outputs": [
        {
          "output_type": "stream",
          "name": "stdout",
          "text": [
            "+-------------+--------------------+-------------------+\n",
            "| Model Order |        Bias        |      Variance     |\n",
            "+-------------+--------------------+-------------------+\n",
            "|      1      | 32.65279475463687  | 45.84318968130683 |\n",
            "|      2      | 6.451925360777691  | 66.02272747230373 |\n",
            "|      3      | 5.531333365628761  | 66.07462308881364 |\n",
            "|      4      | 3.3416919610855755 | 70.69056330983072 |\n",
            "|      5      | 3.1344471448793496 | 71.29744606562585 |\n",
            "|      6      |  2.84375956972154  |  71.2830646713483 |\n",
            "|      7      | 2.651668591653127  | 71.55188788553599 |\n",
            "|      8      | 2.6299380616513623 | 71.67593296910276 |\n",
            "|      9      | 2.6353376235263934 | 71.78279272288752 |\n",
            "+-------------+--------------------+-------------------+\n"
          ]
        }
      ]
    },
    {
      "cell_type": "markdown",
      "source": [
        "***REPORT:***"
      ],
      "metadata": {
        "id": "UO1uoli86ezj"
      }
    },
    {
      "cell_type": "markdown",
      "source": [
        "As shown in the graph, the bias tends to decrease upon increasing the order of the model.\n",
        "The change is big between the first and second orders (from 32 to 6) then it is not as big as the order increases. \n",
        "\n",
        "As opposed to the bias, the variance keeps increasing as the model order increases. \n",
        "\n",
        "Conclusion:\n",
        "As the model order increases, the bias decreases and the variance increases, but as the model order gets higher overfitting occurs as the drawn curve tries to fit all the data points. \n",
        "Therefore, the ideal model order to use here would between the second and the third"
      ],
      "metadata": {
        "id": "kUZT5hEsBdyq"
      }
    },
    {
      "cell_type": "code",
      "source": [
        ""
      ],
      "metadata": {
        "id": "84Kx_G7SRzt6"
      },
      "execution_count": null,
      "outputs": []
    }
  ]
}